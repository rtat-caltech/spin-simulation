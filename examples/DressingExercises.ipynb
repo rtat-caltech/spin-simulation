{
 "cells": [
  {
   "cell_type": "code",
   "execution_count": 1,
   "metadata": {},
   "outputs": [],
   "source": [
    "module_path = \"../\"\n",
    "if findfirst(x -> x == module_path, LOAD_PATH) == nothing\n",
    "    push!(LOAD_PATH, module_path)\n",
    "end\n",
    "using Revise"
   ]
  },
  {
   "cell_type": "code",
   "execution_count": null,
   "metadata": {},
   "outputs": [],
   "source": [
    "using Utils\n",
    "using Solve\n",
    "using Analysis\n",
    "using Plots\n",
    "using DSP\n",
    "using Optim\n",
    "using FFTW\n",
    "using Statistics"
   ]
  },
  {
   "cell_type": "code",
   "execution_count": null,
   "metadata": {},
   "outputs": [],
   "source": [
    "B0 = 0.050 # In Gauss\n",
    "initial_phases=(pi/2, pi/2)\n",
    "t_samp = 1e-3 #how often to record data\n",
    "\n",
    "# For a given solution, find the phase difference\n",
    "# between the neutron and helium-3\n",
    "function phase_diff(sol)\n",
    "    # We don't care about the whole ensemble, since\n",
    "    # the solution only consists of one run\n",
    "    pn = planephase(sol.u[1:3,:,1]) # planephase computes the angle in the x-y plane.\n",
    "    p3 = planephase(sol.u[4:6,:,1])\n",
    "    d = mod2pi.(pn .- p3) #phase difference mod 2pi\n",
    "    \n",
    "    # This next part smooths out d\n",
    "    for i=2:length(d) \n",
    "        delta_d = d[i]-d[i-1]\n",
    "        if delta_d > pi\n",
    "            d[i:end] = d[i:end] .- 2*pi\n",
    "        elseif delta_d < -pi\n",
    "            d[i:end] = d[i:end] .+ 2*pi\n",
    "        end\n",
    "    end\n",
    "    d\n",
    "end\n",
    "\n",
    "# Plots the phase difference\n",
    "function plot_phase_diff(sol)\n",
    "    d = phase_diff(sol)\n",
    "    plot(sol.t, d; xlabel=\"Time [s]\", ylabel=\"(neutron - he3) phase difference [rad]\")\n",
    "end"
   ]
  },
  {
   "cell_type": "code",
   "execution_count": null,
   "metadata": {},
   "outputs": [],
   "source": [
    "# Solves for a chosen B1 value and simulation time\n",
    "# (Uses the previously set value for B0)\n",
    "function solve_f_crit(B1, sim_time)\n",
    "    sol = run_simulations(sim_time, 1;\n",
    "        B0=B0,\n",
    "        B1=B1,\n",
    "        initial_phases=initial_phases,\n",
    "        saveat=0:t_samp:sim_time,\n",
    "        )\n",
    "    sol\n",
    "end\n",
    "\n",
    "# Plots phase difference for a chosen B1 value\n",
    "function plot_f_crit(B1, sim_time)\n",
    "    sol = solve_f_crit(B1, sim_time)\n",
    "    plot_phase_diff(sol)\n",
    "end"
   ]
  },
  {
   "cell_type": "code",
   "execution_count": null,
   "metadata": {},
   "outputs": [],
   "source": [
    "# Try a few different values of B1\n",
    "plot_f_crit(0.4, 10)"
   ]
  },
  {
   "cell_type": "code",
   "execution_count": null,
   "metadata": {},
   "outputs": [],
   "source": [
    "# An objective function to minimize\n",
    "function objective(sol, target, weight)\n",
    "    d = phase_diff(sol)\n",
    "    return sum(((d .- target).^2).*weight)\n",
    "end\n",
    "function min_f_crit(B1, sim_time)\n",
    "    sol = solve_f_crit(B1, sim_time)\n",
    "    objective(sol, zeros(length(sol.t)), ones(length(sol.t)))\n",
    "end"
   ]
  },
  {
   "cell_type": "code",
   "execution_count": null,
   "metadata": {},
   "outputs": [],
   "source": [
    "# Find the optimum B1 value\n",
    "opt_res = optimize(x->min_f_crit(x, 10), 0.4, 0.41)"
   ]
  },
  {
   "cell_type": "code",
   "execution_count": null,
   "metadata": {},
   "outputs": [],
   "source": [
    "B1_optimum = Optim.minimizer(opt_res)"
   ]
  },
  {
   "cell_type": "code",
   "execution_count": null,
   "metadata": {},
   "outputs": [],
   "source": [
    "# This should be a flat-ish line.\n",
    "plot_f_crit(B1_optimum, 10)"
   ]
  },
  {
   "cell_type": "code",
   "execution_count": null,
   "metadata": {},
   "outputs": [],
   "source": [
    "# Define the pulsed modulation scheme\n",
    "# Here we use Gaussian-shaped pulses.\n",
    "# A and B determine the size of the pulses.\n",
    "# x and y determine the pulse durations.\n",
    "function modulation(t, f_mod, A, B, x, y)\n",
    "    period = 1/f_mod\n",
    "    1 - A*exp(-(t-period/4)^2/(2*x^2)) + B*exp(-(t-3*period/4)^2/(2*y^2))\n",
    "end\n",
    "\n",
    "# Returns a function that is a cosine modulated\n",
    "# by our pulsed modulation scheme\n",
    "function B1_templator(B1, w, f_mod, A, B, x, y)\n",
    "    return t->B1*cos(w*t)*modulation(t % (1/f_mod), f_mod, A, B, 0.02, 0.02)\n",
    "end"
   ]
  },
  {
   "cell_type": "code",
   "execution_count": null,
   "metadata": {},
   "outputs": [],
   "source": [
    "# Show what one period of the modulation cycle looks like\n",
    "tmod = 0:1e-4:1\n",
    "func_mod = B1_templator(B1_optimum, crit_params[\"w\"], 1, 0.2, 0.2, 0.02, 0.02)\n",
    "plot(tmod, [func_mod(t) for t=tmod]; xlabel=\"Time [s]\", ylabel=\"Bx [Gauss]\")"
   ]
  },
  {
   "cell_type": "code",
   "execution_count": null,
   "metadata": {},
   "outputs": [],
   "source": [
    "# Solves for given A & B parameters\n",
    "# f_mod : modulation frequency (i.e. f_mod = 2 -> 4 pulses every seconds)\n",
    "function solve_f_mod(A, B, f_mod, pulse_duration, sim_time)\n",
    "    Bxfunc = Iterators.repeated(B1_templator(B1_optimum, \n",
    "            crit_params[\"w\"], f_mod, A, B, pulse_duration, pulse_duration))\n",
    "    sol = run_simulations(sim_time, 1;\n",
    "            B0=B0,\n",
    "            B1=0,\n",
    "            initial_phases=(pi/6, -pi/6), # start the spins pi/3 radians apart\n",
    "            Bxfunc=Bxfunc,\n",
    "            saveat=0:t_samp:sim_time,\n",
    "            )\n",
    "    sol\n",
    "end\n",
    "\n",
    "# Plots the phase difference\n",
    "function plot_f_mod(A, B, sim_time; f_mod=1, pulse_duration=0.02)\n",
    "    sol = solve_f_mod(A, B, f_mod, pulse_duration, sim_time)\n",
    "    plot_phase_diff(sol)\n",
    "end"
   ]
  },
  {
   "cell_type": "code",
   "execution_count": null,
   "metadata": {},
   "outputs": [],
   "source": [
    "# Try out some values. Negative values are OK too.\n",
    "# For this exercise, ideally we'd want the phase difference\n",
    "# to oscillate between +/- pi/3 (around 1.05)\n",
    "plot_f_mod(0.2, 0.5, 10)"
   ]
  },
  {
   "cell_type": "code",
   "execution_count": null,
   "metadata": {},
   "outputs": [],
   "source": [
    "# Define an objective function to be optimized\n",
    "function min_f_mod(A, B, sim_time; f_mod=1, pulse_duration=0.02)\n",
    "    sol = solve_f_mod(A, B, f_mod, pulse_duration, sim_time)\n",
    "    period = 1/f_mod\n",
    "    \n",
    "    # The result should be a square wave of frequency f_mod and amplitude pi/3.\n",
    "    target = sign.(cos.((2*pi*f_mod).*sol.t)) .* pi/3\n",
    "    \n",
    "    # We don't care what the angle is during the pulse, so\n",
    "    # set those weights to zero.\n",
    "    \n",
    "    weights_1 = abs.((sol.t .% period) .- period*3/4) .> 2*pulse_duration\n",
    "    weights_2 = abs.((sol.t .% period) .- period*1/4) .> 2*pulse_duration\n",
    "    weights = weights_1 .& weights_2\n",
    "    \n",
    "    objective(sol, target, weights)\n",
    "end"
   ]
  },
  {
   "cell_type": "code",
   "execution_count": null,
   "metadata": {},
   "outputs": [],
   "source": [
    "x0 = [0.2, 0.2]\n",
    "results = optimize(x->min_f_mod(x[1], x[2], 10), x0, Optim.Options(time_limit = 300.0))"
   ]
  },
  {
   "cell_type": "code",
   "execution_count": null,
   "metadata": {},
   "outputs": [],
   "source": [
    "A_optimum, B_optimum = Optim.minimizer(results)"
   ]
  },
  {
   "cell_type": "code",
   "execution_count": null,
   "metadata": {},
   "outputs": [],
   "source": [
    "plot_f_mod(A_optimum, B_optimum, 10)"
   ]
  },
  {
   "cell_type": "code",
   "execution_count": null,
   "metadata": {},
   "outputs": [],
   "source": []
  }
 ],
 "metadata": {
  "@webio": {
   "lastCommId": null,
   "lastKernelId": null
  },
  "kernelspec": {
   "display_name": "Julia 1.6.1",
   "language": "julia",
   "name": "julia-1.6"
  },
  "language_info": {
   "file_extension": ".jl",
   "mimetype": "application/julia",
   "name": "julia",
   "version": "1.6.1"
  }
 },
 "nbformat": 4,
 "nbformat_minor": 4
}
