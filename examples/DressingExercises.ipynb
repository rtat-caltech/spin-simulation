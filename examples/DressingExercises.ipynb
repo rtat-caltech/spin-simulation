{
 "cells": [
  {
   "cell_type": "code",
   "execution_count": 1,
   "metadata": {},
   "outputs": [],
   "source": [
    "module_path = \"../\"\n",
    "if findfirst(x -> x == module_path, LOAD_PATH) == nothing\n",
    "    push!(LOAD_PATH, module_path)\n",
    "end\n",
    "using Revise"
   ]
  },
  {
   "cell_type": "code",
   "execution_count": 10,
   "metadata": {},
   "outputs": [],
   "source": [
    "using Utils\n",
    "using Solve\n",
    "using Analysis\n",
    "using Plots\n",
    "using DSP\n",
    "using Optim\n",
    "using FFTW\n",
    "using Statistics"
   ]
  },
  {
   "cell_type": "code",
   "execution_count": 29,
   "metadata": {},
   "outputs": [
    {
     "data": {
      "text/plain": [
       "w_diff (generic function with 1 method)"
      ]
     },
     "execution_count": 29,
     "metadata": {},
     "output_type": "execute_result"
    }
   ],
   "source": [
    "B0_new = 0.050 # In Gauss\n",
    "initial_phases=(pi/2, pi/2)\n",
    "t_samp = 1e-3 #how often to record data\n",
    "\n",
    "function display_dw(B1, sim_time)\n",
    "    sol = run_simulations(sim_time, 1;\n",
    "        B0=B0_new,\n",
    "        B1=B1,\n",
    "        initial_phases=initial_phases,\n",
    "        saveat=0:t_samp:sim_time,\n",
    "        )\n",
    "    p1 = planephase(sol.u[1:3,:,1])\n",
    "    p2 = planephase(sol.u[4:6,:,1])\n",
    "    d = mod2pi.((p1 .- p2) .+ pi) .- pi\n",
    "    plot(sol.t, d)\n",
    "end\n",
    "\n",
    "function extract_dw(sol; nsmooth=50)\n",
    "    # From a solution containing 1 run, extract the frequency difference between\n",
    "    # neutron and he3 in radians/s\n",
    "    p1 = planephase(sol.u[1:3,:,1])\n",
    "    p2 = planephase(sol.u[4:6,:,1])\n",
    "    d = mod2pi.((p1 .- p2) .+ pi) .- pi #phase difference mod 2pi\n",
    "    total_d = 0\n",
    "    total_t = 0\n",
    "\n",
    "    last_points = zeros(nsmooth)\n",
    "    for i=1:length(d)-1\n",
    "        delta_d = d[i+1]-d[i]\n",
    "        if abs(delta_d) > pi\n",
    "            continue\n",
    "        end\n",
    "        total_d += delta_d\n",
    "        total_t += (sol.t[i+1]-sol.t[i])\n",
    "        if length(d)-i <= nsmooth\n",
    "            last_points[nsmooth+i-length(d)+1] = total_d/total_t\n",
    "        end\n",
    "    end\n",
    "    return mean(last_points)/sol.t[end-nsmooth÷2]\n",
    "end\n",
    "\n",
    "function w_diff(B1, sim_time)\n",
    "    # For a given B1 value, compute frequency difference between\n",
    "    # neutron and he3 in radians/s\n",
    "    sol = run_simulations(sim_time, 1;\n",
    "            B0=B0_new,\n",
    "            B1=B1,\n",
    "            initial_phases=initial_phases,\n",
    "            saveat=0:t_samp:sim_time,\n",
    "            )\n",
    "    return extract_dw(sol)\n",
    "end"
   ]
  },
  {
   "cell_type": "code",
   "execution_count": 33,
   "metadata": {
    "scrolled": true
   },
   "outputs": [
    {
     "data": {
      "text/plain": [
       "Results of Optimization Algorithm\n",
       " * Algorithm: Brent's Method\n",
       " * Search Interval: [0.400000, 0.500000]\n",
       " * Minimizer: 4.028911e-01\n",
       " * Minimum: 4.401513e-19\n",
       " * Iterations: 10\n",
       " * Convergence: max(|x - x_upper|, |x - x_lower|) <= 2*(1.5e-08*|x|+2.2e-16): true\n",
       " * Objective Function Calls: 11"
      ]
     },
     "execution_count": 33,
     "metadata": {},
     "output_type": "execute_result"
    }
   ],
   "source": [
    "sim_time = 100\n",
    "opt_res = optimize(x->w_diff(x, sim_time)^2, 0.4, 0.5)"
   ]
  }
 ],
 "metadata": {
  "kernelspec": {
   "display_name": "Julia 1.6.1",
   "language": "julia",
   "name": "julia-1.6"
  },
  "language_info": {
   "file_extension": ".jl",
   "mimetype": "application/julia",
   "name": "julia",
   "version": "1.6.1"
  }
 },
 "nbformat": 4,
 "nbformat_minor": 4
}
