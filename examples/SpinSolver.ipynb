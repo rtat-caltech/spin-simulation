{
 "cells": [
  {
   "cell_type": "code",
   "execution_count": null,
   "metadata": {},
   "outputs": [],
   "source": [
    "# Array shape conventions:\n",
    "# d = vector dimension (6 or 7, usually)\n",
    "# T = number of time points (~10000, usually)\n",
    "# N = number of spins simulated\n",
    "# 1. Vector time series: (d, T)\n",
    "# 2. Ensemble: (d, T, N)"
   ]
  },
  {
   "cell_type": "code",
   "execution_count": null,
   "metadata": {},
   "outputs": [],
   "source": [
    "module_path = \"/home/rtat/spin-simulation/\"\n",
    "if findfirst(x -> x == module_path, LOAD_PATH) == nothing\n",
    "    push!(LOAD_PATH, module_path)\n",
    "end\n",
    "using Revise"
   ]
  },
  {
   "cell_type": "code",
   "execution_count": null,
   "metadata": {},
   "outputs": [],
   "source": [
    "using Utils\n",
    "using Solve\n",
    "using Analysis\n",
    "using Plots\n",
    "using DSP"
   ]
  },
  {
   "cell_type": "code",
   "execution_count": null,
   "metadata": {},
   "outputs": [],
   "source": [
    "# Holds critical dressing parameters. B0 and B1 are in [Gauss], w is angular frequency\n",
    "# B(t) = B0 \\hat{z} + B1 cos(wt) \\hat{x}\n",
    "crit_params "
   ]
  },
  {
   "cell_type": "code",
   "execution_count": null,
   "metadata": {},
   "outputs": [],
   "source": [
    "sol = run_simulations(1, 2; nsave=10000); # Simulate 2 neutron-3He pairs for 1 second.\n",
    "# By default, B0, B1, and w are set to critical dressing values.\n",
    "# By default, a small amount of white noise is applied along the B1 direction."
   ]
  },
  {
   "cell_type": "code",
   "execution_count": null,
   "metadata": {},
   "outputs": [],
   "source": [
    "sol.t"
   ]
  },
  {
   "cell_type": "code",
   "execution_count": null,
   "metadata": {},
   "outputs": [],
   "source": [
    "# The first 3 rows are the neutron spin Bloch vector components\n",
    "# The next 3 rows correspond to the 3He Bloch vector.\n",
    "sol.u"
   ]
  },
  {
   "cell_type": "code",
   "execution_count": null,
   "metadata": {},
   "outputs": [],
   "source": [
    "# Make a directory to save things in\n",
    "save_dir = \"data/results\"\n",
    "if !isdir(save_dir)\n",
    "    mkdir(save_dir)\n",
    "end"
   ]
  },
  {
   "cell_type": "code",
   "execution_count": null,
   "metadata": {},
   "outputs": [],
   "source": [
    "sim_time = 1 # Simulation time in seconds\n",
    "n_runs = 50 # Number of runs to simulate. Noise is randomized each time.\n",
    "nsave = 10001\n",
    "initial_phases = (pi/4, -pi/4) # Angle in the x-y plane to start the spins at. Relative to x-axis."
   ]
  },
  {
   "cell_type": "code",
   "execution_count": null,
   "metadata": {},
   "outputs": [],
   "source": [
    "#= \n",
    "The noisy part of the B field is simulated as Gaussian random points \n",
    "placed at fixed intervals in time, which are then interpolated\n",
    "to form a continuous function. \n",
    "\n",
    "Bnoise = sigma of the Gaussian\n",
    "noiserate = # of points per second.\n",
    "\n",
    "In this code, the noisy B field is always taken to be in the x direction.\n",
    "=#\n",
    "Bnoise=crit_params[\"B1\"]*2e-3\n",
    "noiserate = 20000\n",
    "\n",
    "#=\n",
    "The code uses filters to modify the power spectrum of the noise\n",
    "=#\n",
    "filterorder = 7\n",
    "filterripple = 0.1\n",
    "filterdB = 60\n",
    "filtertype = Elliptic(filterorder, filterripple, filterdB)\n",
    "uppercutoff = 0 # No upper cutoff"
   ]
  },
  {
   "cell_type": "code",
   "execution_count": null,
   "metadata": {},
   "outputs": [],
   "source": [
    "for lowercutoff=[0, 30, 60, 200, 500, 2000] # Various highpass filter cutoffs\n",
    "    # Simulate a run with no noise\n",
    "    no_noise_sol = run_simulations(sim_time, 1;\n",
    "        initial_phases=initial_phases,\n",
    "        Bnoise=0,\n",
    "        nsave=nsave,\n",
    "        )\n",
    "\n",
    "    # Simulate several runs with noise\n",
    "    sol = run_simulations(sim_time, n_runs;\n",
    "        Bnoise=Bnoise,\n",
    "        noiserate=noiserate,\n",
    "        filtertype=filtertype,\n",
    "        lowercutoff=lowercutoff,\n",
    "        uppercutoff=uppercutoff,\n",
    "        initial_phases=initial_phases,\n",
    "        nsave=nsave)\n",
    "\n",
    "    # Save some metadata for future reference\n",
    "    metadata = Dict{String, Any}(\"time\"=>sim_time,\n",
    "        \"Bnoise\"=>Bnoise,\n",
    "        \"lowercutoff\"=>lowercutoff,\n",
    "        \"uppercutoff\"=>uppercutoff, \n",
    "        \"initial_phases\"=>initial_phases,\n",
    "        \"filterorder\"=>filterorder,\n",
    "        \"filterripple\"=>filterripple,\n",
    "        \"filterdB\"=>filterdB,\n",
    "        \"noiserate\"=>noiserate)\n",
    "\n",
    "    # Convenience function saves these objects to a directory inside save_dir\n",
    "    # Returns the name of the newly created directory.\n",
    "    most_recent_save = save_data(no_noise_sol, sol, metadata, save_dir)\n",
    "end "
   ]
  },
  {
   "cell_type": "code",
   "execution_count": null,
   "metadata": {},
   "outputs": [],
   "source": [
    "most_recent_save"
   ]
  },
  {
   "cell_type": "code",
   "execution_count": null,
   "metadata": {},
   "outputs": [],
   "source": [
    "# Convenience function for loading data\n",
    "no_noise_sol, sol, metadata = load_data(most_recent_save);"
   ]
  }
 ],
 "metadata": {
  "@webio": {
   "lastCommId": null,
   "lastKernelId": null
  },
  "kernelspec": {
   "display_name": "Julia 1.3.1",
   "language": "julia",
   "name": "julia-1.3"
  },
  "language_info": {
   "file_extension": ".jl",
   "mimetype": "application/julia",
   "name": "julia",
   "version": "1.3.1"
  }
 },
 "nbformat": 4,
 "nbformat_minor": 2
}
