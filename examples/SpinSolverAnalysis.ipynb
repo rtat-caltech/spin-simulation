{
 "cells": [
  {
   "cell_type": "code",
   "execution_count": null,
   "metadata": {},
   "outputs": [],
   "source": [
    "# For heavy-duty analysis"
   ]
  },
  {
   "cell_type": "code",
   "execution_count": null,
   "metadata": {},
   "outputs": [],
   "source": [
    "# Array shape conventions:\n",
    "# d = vector dimension (6, usually)\n",
    "# T = number of time points (~10000, usually)\n",
    "# N = number of trajectories simulated\n",
    "# 1. Vector time series: (d, T)\n",
    "# 2. Ensemble: (d, T, N)"
   ]
  },
  {
   "cell_type": "code",
   "execution_count": null,
   "metadata": {},
   "outputs": [],
   "source": [
    "module_path = \"../\"\n",
    "if findfirst(x -> x == module_path, LOAD_PATH) == nothing\n",
    "    push!(LOAD_PATH, module_path)\n",
    "end\n",
    "using Revise"
   ]
  },
  {
   "cell_type": "code",
   "execution_count": null,
   "metadata": {},
   "outputs": [],
   "source": [
    "using Utils\n",
    "using Solve\n",
    "using Analysis\n",
    "using DSP\n",
    "using Plots"
   ]
  },
  {
   "cell_type": "code",
   "execution_count": null,
   "metadata": {},
   "outputs": [],
   "source": [
    "# some plotting parameters\n",
    "tickfontsize = 11\n",
    "labelfontsize = 14\n",
    "legendfontsize = 10"
   ]
  },
  {
   "cell_type": "code",
   "execution_count": null,
   "metadata": {},
   "outputs": [],
   "source": [
    "#=\n",
    "Pseudocode for aggregate_data\n",
    "    a dataset consists of metadata, a solution with no noise, and solution(s) with noise.\n",
    "\n",
    "result = a dictionary ( key -> value )\n",
    "\n",
    "for each unique key\n",
    "    result[key] = nothing\n",
    "    for each dataset that shares that key\n",
    "        metadata, no_noise_sol, sol = dataset\n",
    "        if not selector(metadata)\n",
    "            continue\n",
    "        end\n",
    "        result[key] = aggregator(result[key], metadata, no_noise_sol, sol)\n",
    "    end\n",
    "    result[key] = postprocess(key, result[key])\n",
    "end\n",
    "\n",
    "return result\n",
    "=#"
   ]
  },
  {
   "cell_type": "code",
   "execution_count": null,
   "metadata": {},
   "outputs": [],
   "source": [
    "save_dir = \"data/results\"\n",
    "\n",
    "function polarization_aggregator(r, metadata, no_noise_sol, sol)\n",
    "    t, pol = extract_noise(sol; noisetype=\"npolarization\", nsmooth=10, runs=:)\n",
    "    return t, pol\n",
    "end\n",
    "\n",
    "function polarization_postprocess(key, r)\n",
    "    # No post-processing.\n",
    "    # You can also just leave this argument out entirely - this is what it does by default.\n",
    "    return r\n",
    "end\n",
    "\n",
    "res = aggregate_data(\"data/results\";\n",
    "        selector=m->(m[\"lowercutoff\"] < 1000), # Pick only datasets with cutoff < 1000\n",
    "        key_func=(m,n,s)->m[\"lowercutoff\"],\n",
    "        aggregator=polarization_aggregator,\n",
    "        postprocess=polarization_postprocess)"
   ]
  },
  {
   "cell_type": "code",
   "execution_count": null,
   "metadata": {},
   "outputs": [],
   "source": [
    "plot()\n",
    "for k=keys(res)\n",
    "    t, pol = res[k]\n",
    "    plot!(t, pol, label=string(k, \"Hz\"))\n",
    "end\n",
    "plot!(ylabel=string(\"Polarization\"), xlabel=\"Time [s]\")\n",
    "plot!(ytickfontsize=tickfontsize, xtickfontsize=tickfontsize)\n",
    "plot!(yguidefontsize=labelfontsize, xguidefontsize=labelfontsize)\n",
    "plot!(legendfontsize=legendfontsize)"
   ]
  },
  {
   "cell_type": "code",
   "execution_count": null,
   "metadata": {},
   "outputs": [],
   "source": [
    "metadata = get_random_metadata(\"data/results\")\n",
    "cutoffs = [key for key=keys(res)]\n",
    "errors = [res[key][2] for key=keys(res)]\n",
    "scatter(cutoffs, 1 .- [res[key][2][end] for key=cutoffs], yscale=:log10, label=\"Simulation\")\n",
    "cc = range(0, 3000, length=500)\n",
    "nn = [1 .- predict_polarization(1., neutrongyro; Bnoise=metadata[\"Bnoise\"], noiserate=metadata[\"noiserate\"], lowercutoff=f) for f=cc]\n",
    "plot!(cc, nn, label=\"Theory\")\n",
    "yaxis!(\"1/T_2 [s^-1]\")\n",
    "xaxis!(\"Highpass Filter Cutoff [Hz]\")\n",
    "plot!(ytickfontsize=tickfontsize, xtickfontsize=tickfontsize)\n",
    "plot!(yguidefontsize=labelfontsize, xguidefontsize=labelfontsize)\n",
    "plot!(legendfontsize=legendfontsize)"
   ]
  },
  {
   "cell_type": "code",
   "execution_count": null,
   "metadata": {},
   "outputs": [],
   "source": [
    "data_directories = [joinpath(save_dir, s) for s=readdir(save_dir)]"
   ]
  },
  {
   "cell_type": "code",
   "execution_count": null,
   "metadata": {},
   "outputs": [],
   "source": [
    "using Visualizations"
   ]
  },
  {
   "cell_type": "code",
   "execution_count": null,
   "metadata": {},
   "outputs": [],
   "source": [
    "no_noise_sol, sol, metadata = load_data(data_directories[1]);"
   ]
  },
  {
   "cell_type": "code",
   "execution_count": null,
   "metadata": {},
   "outputs": [],
   "source": [
    "xaxes, yaxes, scale = determine_axes(sol);"
   ]
  },
  {
   "cell_type": "code",
   "execution_count": null,
   "metadata": {},
   "outputs": [],
   "source": [
    "anim = @animate for i = 1:3000\n",
    "    frame = sol.u[1:3,i,:]\n",
    "    blochplot(frame, xaxes[i], yaxes[i], scale * 3; title=string(\"t=\", sol.t[i], \"s\"))\n",
    "    xv, yv = get_quivers(frame, xaxes[i], yaxes[i], scale)\n",
    "    plot!([0], [0], quiver=([xv[1]], [yv[1]]), label=\"East\", subplot=1, seriescolor=:orange, seriestype=:quiver);\n",
    "    plot!([0], [0], quiver=([xv[2]], [yv[2]]), label=\"North\", subplot=1, seriescolor=:green, seriestype=:quiver);\n",
    "    #x0, y0 = project(no_noise_sol.u[1:3,i,:], xaxes[i], yaxes[i])\n",
    "    #scatter!([mean(x0)], [mean(y0)], markercolor=:red)\n",
    "    end every 20\n",
    "gif(anim, \"anim_fps15.gif\", fps = 15)"
   ]
  }
 ],
 "metadata": {
  "@webio": {
   "lastCommId": null,
   "lastKernelId": null
  },
  "kernelspec": {
   "display_name": "Julia 1.3.1",
   "language": "julia",
   "name": "julia-1.3"
  },
  "language_info": {
   "file_extension": ".jl",
   "mimetype": "application/julia",
   "name": "julia",
   "version": "1.3.1"
  }
 },
 "nbformat": 4,
 "nbformat_minor": 4
}
